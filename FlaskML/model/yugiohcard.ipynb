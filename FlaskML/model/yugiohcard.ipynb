{
  "cells": [
    {
      "cell_type": "code",
      "execution_count": 117,
      "metadata": {
        "id": "vZa0_jwiykKn"
      },
      "outputs": [],
      "source": [
        "# Import required libraries\n",
        "import pandas as pd\n",
        "import numpy as np\n",
        "import matplotlib.pyplot as plt\n",
        "from sklearn.cluster import KMeans\n"
      ]
    },
    {
      "cell_type": "code",
      "execution_count": 118,
      "metadata": {
        "colab": {
          "base_uri": "https://localhost:8080/"
        },
        "id": "zdrpcDSZymhL",
        "outputId": "8d8ce581-7426-48a0-854d-ea64b005d867"
      },
      "outputs": [],
      "source": [
        "df = pd.read_csv('card_data.csv.xls')\n"
      ]
    },
    {
      "cell_type": "code",
      "execution_count": 119,
      "metadata": {
        "colab": {
          "base_uri": "https://localhost:8080/",
          "height": 206
        },
        "id": "XSu7nEwgyw-b",
        "outputId": "a2efe2ad-b017-4a8f-ffd4-03f00a64018a"
      },
      "outputs": [
        {
          "data": {
            "text/html": [
              "<div>\n",
              "<style scoped>\n",
              "    .dataframe tbody tr th:only-of-type {\n",
              "        vertical-align: middle;\n",
              "    }\n",
              "\n",
              "    .dataframe tbody tr th {\n",
              "        vertical-align: top;\n",
              "    }\n",
              "\n",
              "    .dataframe thead th {\n",
              "        text-align: right;\n",
              "    }\n",
              "</style>\n",
              "<table border=\"1\" class=\"dataframe\">\n",
              "  <thead>\n",
              "    <tr style=\"text-align: right;\">\n",
              "      <th></th>\n",
              "      <th>Name</th>\n",
              "      <th>Type</th>\n",
              "      <th>Level</th>\n",
              "      <th>Race</th>\n",
              "      <th>Attribute</th>\n",
              "      <th>ATK</th>\n",
              "      <th>DEF</th>\n",
              "    </tr>\n",
              "  </thead>\n",
              "  <tbody>\n",
              "    <tr>\n",
              "      <th>0</th>\n",
              "      <td>Limit Reverse</td>\n",
              "      <td>Trap Card</td>\n",
              "      <td>NaN</td>\n",
              "      <td>Continuous</td>\n",
              "      <td>NaN</td>\n",
              "      <td>NaN</td>\n",
              "      <td>NaN</td>\n",
              "    </tr>\n",
              "    <tr>\n",
              "      <th>1</th>\n",
              "      <td>The 13th Grave</td>\n",
              "      <td>Normal Monster</td>\n",
              "      <td>3.0</td>\n",
              "      <td>Zombie</td>\n",
              "      <td>DARK</td>\n",
              "      <td>1200.0</td>\n",
              "      <td>900.0</td>\n",
              "    </tr>\n",
              "    <tr>\n",
              "      <th>2</th>\n",
              "      <td>Gem-Enhancement</td>\n",
              "      <td>Trap Card</td>\n",
              "      <td>NaN</td>\n",
              "      <td>Normal</td>\n",
              "      <td>NaN</td>\n",
              "      <td>NaN</td>\n",
              "      <td>NaN</td>\n",
              "    </tr>\n",
              "    <tr>\n",
              "      <th>3</th>\n",
              "      <td>Magician's Circle</td>\n",
              "      <td>Trap Card</td>\n",
              "      <td>NaN</td>\n",
              "      <td>Normal</td>\n",
              "      <td>NaN</td>\n",
              "      <td>NaN</td>\n",
              "      <td>NaN</td>\n",
              "    </tr>\n",
              "    <tr>\n",
              "      <th>4</th>\n",
              "      <td>Castle of Dark Illusions</td>\n",
              "      <td>Flip Effect Monster</td>\n",
              "      <td>4.0</td>\n",
              "      <td>Fiend</td>\n",
              "      <td>DARK</td>\n",
              "      <td>920.0</td>\n",
              "      <td>1930.0</td>\n",
              "    </tr>\n",
              "  </tbody>\n",
              "</table>\n",
              "</div>"
            ],
            "text/plain": [
              "                       Name                 Type  Level        Race Attribute  \\\n",
              "0             Limit Reverse            Trap Card    NaN  Continuous       NaN   \n",
              "1            The 13th Grave       Normal Monster    3.0      Zombie      DARK   \n",
              "2           Gem-Enhancement            Trap Card    NaN      Normal       NaN   \n",
              "3         Magician's Circle            Trap Card    NaN      Normal       NaN   \n",
              "4  Castle of Dark Illusions  Flip Effect Monster    4.0       Fiend      DARK   \n",
              "\n",
              "      ATK     DEF  \n",
              "0     NaN     NaN  \n",
              "1  1200.0   900.0  \n",
              "2     NaN     NaN  \n",
              "3     NaN     NaN  \n",
              "4   920.0  1930.0  "
            ]
          },
          "execution_count": 119,
          "metadata": {},
          "output_type": "execute_result"
        }
      ],
      "source": [
        "# Print the first 5 rows of the data\n",
        "df.head()\n"
      ]
    },
    {
      "cell_type": "code",
      "execution_count": 120,
      "metadata": {
        "colab": {
          "base_uri": "https://localhost:8080/"
        },
        "id": "8jreEv14yzfc",
        "outputId": "488d30ec-006f-44cf-f5e7-d2b5b598c1b0"
      },
      "outputs": [
        {
          "data": {
            "text/plain": [
              "(6534, 7)"
            ]
          },
          "execution_count": 120,
          "metadata": {},
          "output_type": "execute_result"
        }
      ],
      "source": [
        "# Get the shape of the data\n",
        "df.shape\n"
      ]
    },
    {
      "cell_type": "code",
      "execution_count": 121,
      "metadata": {
        "colab": {
          "base_uri": "https://localhost:8080/"
        },
        "id": "H2IDroX0y19A",
        "outputId": "0862611b-35e1-4209-e820-451988b7d8e1"
      },
      "outputs": [
        {
          "data": {
            "text/plain": [
              "Name          object\n",
              "Type          object\n",
              "Level        float64\n",
              "Race          object\n",
              "Attribute     object\n",
              "ATK          float64\n",
              "DEF          float64\n",
              "dtype: object"
            ]
          },
          "execution_count": 121,
          "metadata": {},
          "output_type": "execute_result"
        }
      ],
      "source": [
        "# Check the data types of the variables\n",
        "df.dtypes\n"
      ]
    },
    {
      "cell_type": "code",
      "execution_count": 122,
      "metadata": {
        "colab": {
          "base_uri": "https://localhost:8080/",
          "height": 300
        },
        "id": "-PdDWvpxy4UX",
        "outputId": "309f4858-5933-4e61-9240-9c941b46df31"
      },
      "outputs": [
        {
          "data": {
            "text/html": [
              "<div>\n",
              "<style scoped>\n",
              "    .dataframe tbody tr th:only-of-type {\n",
              "        vertical-align: middle;\n",
              "    }\n",
              "\n",
              "    .dataframe tbody tr th {\n",
              "        vertical-align: top;\n",
              "    }\n",
              "\n",
              "    .dataframe thead th {\n",
              "        text-align: right;\n",
              "    }\n",
              "</style>\n",
              "<table border=\"1\" class=\"dataframe\">\n",
              "  <thead>\n",
              "    <tr style=\"text-align: right;\">\n",
              "      <th></th>\n",
              "      <th>Level</th>\n",
              "      <th>ATK</th>\n",
              "      <th>DEF</th>\n",
              "    </tr>\n",
              "  </thead>\n",
              "  <tbody>\n",
              "    <tr>\n",
              "      <th>count</th>\n",
              "      <td>4275.000000</td>\n",
              "      <td>4275.000000</td>\n",
              "      <td>4275.000000</td>\n",
              "    </tr>\n",
              "    <tr>\n",
              "      <th>mean</th>\n",
              "      <td>4.449591</td>\n",
              "      <td>1455.553216</td>\n",
              "      <td>1212.318129</td>\n",
              "    </tr>\n",
              "    <tr>\n",
              "      <th>std</th>\n",
              "      <td>2.185045</td>\n",
              "      <td>899.165365</td>\n",
              "      <td>802.966529</td>\n",
              "    </tr>\n",
              "    <tr>\n",
              "      <th>min</th>\n",
              "      <td>1.000000</td>\n",
              "      <td>0.000000</td>\n",
              "      <td>0.000000</td>\n",
              "    </tr>\n",
              "    <tr>\n",
              "      <th>25%</th>\n",
              "      <td>3.000000</td>\n",
              "      <td>800.000000</td>\n",
              "      <td>600.000000</td>\n",
              "    </tr>\n",
              "    <tr>\n",
              "      <th>50%</th>\n",
              "      <td>4.000000</td>\n",
              "      <td>1500.000000</td>\n",
              "      <td>1200.000000</td>\n",
              "    </tr>\n",
              "    <tr>\n",
              "      <th>75%</th>\n",
              "      <td>6.000000</td>\n",
              "      <td>2100.000000</td>\n",
              "      <td>1800.000000</td>\n",
              "    </tr>\n",
              "    <tr>\n",
              "      <th>max</th>\n",
              "      <td>12.000000</td>\n",
              "      <td>5000.000000</td>\n",
              "      <td>5000.000000</td>\n",
              "    </tr>\n",
              "  </tbody>\n",
              "</table>\n",
              "</div>"
            ],
            "text/plain": [
              "             Level          ATK          DEF\n",
              "count  4275.000000  4275.000000  4275.000000\n",
              "mean      4.449591  1455.553216  1212.318129\n",
              "std       2.185045   899.165365   802.966529\n",
              "min       1.000000     0.000000     0.000000\n",
              "25%       3.000000   800.000000   600.000000\n",
              "50%       4.000000  1500.000000  1200.000000\n",
              "75%       6.000000  2100.000000  1800.000000\n",
              "max      12.000000  5000.000000  5000.000000"
            ]
          },
          "execution_count": 122,
          "metadata": {},
          "output_type": "execute_result"
        }
      ],
      "source": [
        "df.describe()"
      ]
    },
    {
      "cell_type": "code",
      "execution_count": 123,
      "metadata": {
        "colab": {
          "base_uri": "https://localhost:8080/"
        },
        "id": "Wl5cuuIny7g8",
        "outputId": "104d1fae-1aa2-491d-f416-d2268f66462a"
      },
      "outputs": [
        {
          "data": {
            "text/plain": [
              "Level        2259\n",
              "Attribute    2259\n",
              "ATK          2259\n",
              "DEF          2259\n",
              "Name            0\n",
              "dtype: int64"
            ]
          },
          "execution_count": 123,
          "metadata": {},
          "output_type": "execute_result"
        }
      ],
      "source": [
        "# Check missing values\n",
        "# df.isnull().sum()\n",
        "df.isnull().sum().sort_values(ascending=False).head()\n"
      ]
    },
    {
      "cell_type": "code",
      "execution_count": 124,
      "metadata": {
        "id": "Fv2uqbMny-yX"
      },
      "outputs": [],
      "source": [
        "df.drop(['Name','Type','Race','Attribute'], axis=1, inplace=True)"
      ]
    },
    {
      "cell_type": "code",
      "execution_count": 125,
      "metadata": {
        "colab": {
          "base_uri": "https://localhost:8080/"
        },
        "id": "9t76PIFGzMnt",
        "outputId": "bcf497a1-fd8e-4f83-9027-8e5710342432"
      },
      "outputs": [
        {
          "data": {
            "text/plain": [
              "Level    0\n",
              "ATK      0\n",
              "DEF      0\n",
              "dtype: int64"
            ]
          },
          "execution_count": 125,
          "metadata": {},
          "output_type": "execute_result"
        }
      ],
      "source": [
        "# Mengisi nilai null pada dataset dengan nilai mean kolom tersebut\n",
        "df.loc[(df['Level'].isnull()==True), 'Level']=df['Level'].mean()\n",
        "df.loc[(df['ATK'].isnull()==True), 'ATK']=df['ATK'].mean()\n",
        "df.loc[(df['DEF'].isnull()==True), 'DEF']=df['DEF'].mean()\n",
        "df.isnull().sum().sort_values(ascending=False).head()\n"
      ]
    },
    {
      "cell_type": "code",
      "execution_count": 126,
      "metadata": {
        "colab": {
          "base_uri": "https://localhost:8080/",
          "height": 423
        },
        "id": "CXSUs_FJzZXu",
        "outputId": "be63822c-120a-4e9f-c5d9-57ddccda65de"
      },
      "outputs": [
        {
          "data": {
            "text/html": [
              "<div>\n",
              "<style scoped>\n",
              "    .dataframe tbody tr th:only-of-type {\n",
              "        vertical-align: middle;\n",
              "    }\n",
              "\n",
              "    .dataframe tbody tr th {\n",
              "        vertical-align: top;\n",
              "    }\n",
              "\n",
              "    .dataframe thead th {\n",
              "        text-align: right;\n",
              "    }\n",
              "</style>\n",
              "<table border=\"1\" class=\"dataframe\">\n",
              "  <thead>\n",
              "    <tr style=\"text-align: right;\">\n",
              "      <th></th>\n",
              "      <th>Level</th>\n",
              "      <th>ATK</th>\n",
              "      <th>DEF</th>\n",
              "    </tr>\n",
              "  </thead>\n",
              "  <tbody>\n",
              "    <tr>\n",
              "      <th>0</th>\n",
              "      <td>4.449591</td>\n",
              "      <td>1455.553216</td>\n",
              "      <td>1212.318129</td>\n",
              "    </tr>\n",
              "    <tr>\n",
              "      <th>1</th>\n",
              "      <td>3.000000</td>\n",
              "      <td>1200.000000</td>\n",
              "      <td>900.000000</td>\n",
              "    </tr>\n",
              "    <tr>\n",
              "      <th>2</th>\n",
              "      <td>4.449591</td>\n",
              "      <td>1455.553216</td>\n",
              "      <td>1212.318129</td>\n",
              "    </tr>\n",
              "    <tr>\n",
              "      <th>3</th>\n",
              "      <td>4.449591</td>\n",
              "      <td>1455.553216</td>\n",
              "      <td>1212.318129</td>\n",
              "    </tr>\n",
              "    <tr>\n",
              "      <th>4</th>\n",
              "      <td>4.000000</td>\n",
              "      <td>920.000000</td>\n",
              "      <td>1930.000000</td>\n",
              "    </tr>\n",
              "    <tr>\n",
              "      <th>...</th>\n",
              "      <td>...</td>\n",
              "      <td>...</td>\n",
              "      <td>...</td>\n",
              "    </tr>\n",
              "    <tr>\n",
              "      <th>6529</th>\n",
              "      <td>4.449591</td>\n",
              "      <td>1455.553216</td>\n",
              "      <td>1212.318129</td>\n",
              "    </tr>\n",
              "    <tr>\n",
              "      <th>6530</th>\n",
              "      <td>2.000000</td>\n",
              "      <td>2400.000000</td>\n",
              "      <td>0.000000</td>\n",
              "    </tr>\n",
              "    <tr>\n",
              "      <th>6531</th>\n",
              "      <td>7.000000</td>\n",
              "      <td>2500.000000</td>\n",
              "      <td>2100.000000</td>\n",
              "    </tr>\n",
              "    <tr>\n",
              "      <th>6532</th>\n",
              "      <td>7.000000</td>\n",
              "      <td>2500.000000</td>\n",
              "      <td>2000.000000</td>\n",
              "    </tr>\n",
              "    <tr>\n",
              "      <th>6533</th>\n",
              "      <td>8.000000</td>\n",
              "      <td>2500.000000</td>\n",
              "      <td>2000.000000</td>\n",
              "    </tr>\n",
              "  </tbody>\n",
              "</table>\n",
              "<p>6534 rows × 3 columns</p>\n",
              "</div>"
            ],
            "text/plain": [
              "         Level          ATK          DEF\n",
              "0     4.449591  1455.553216  1212.318129\n",
              "1     3.000000  1200.000000   900.000000\n",
              "2     4.449591  1455.553216  1212.318129\n",
              "3     4.449591  1455.553216  1212.318129\n",
              "4     4.000000   920.000000  1930.000000\n",
              "...        ...          ...          ...\n",
              "6529  4.449591  1455.553216  1212.318129\n",
              "6530  2.000000  2400.000000     0.000000\n",
              "6531  7.000000  2500.000000  2100.000000\n",
              "6532  7.000000  2500.000000  2000.000000\n",
              "6533  8.000000  2500.000000  2000.000000\n",
              "\n",
              "[6534 rows x 3 columns]"
            ]
          },
          "execution_count": 126,
          "metadata": {},
          "output_type": "execute_result"
        }
      ],
      "source": [
        "df"
      ]
    },
    {
      "cell_type": "code",
      "execution_count": 127,
      "metadata": {
        "colab": {
          "base_uri": "https://localhost:8080/",
          "height": 423
        },
        "id": "dC2DjNUVzdeD",
        "outputId": "de328f47-0bb7-429d-d37e-df655f1c7488"
      },
      "outputs": [
        {
          "data": {
            "text/html": [
              "<div>\n",
              "<style scoped>\n",
              "    .dataframe tbody tr th:only-of-type {\n",
              "        vertical-align: middle;\n",
              "    }\n",
              "\n",
              "    .dataframe tbody tr th {\n",
              "        vertical-align: top;\n",
              "    }\n",
              "\n",
              "    .dataframe thead th {\n",
              "        text-align: right;\n",
              "    }\n",
              "</style>\n",
              "<table border=\"1\" class=\"dataframe\">\n",
              "  <thead>\n",
              "    <tr style=\"text-align: right;\">\n",
              "      <th></th>\n",
              "      <th>level</th>\n",
              "      <th>atk</th>\n",
              "      <th>def</th>\n",
              "    </tr>\n",
              "  </thead>\n",
              "  <tbody>\n",
              "    <tr>\n",
              "      <th>0</th>\n",
              "      <td>4.449591</td>\n",
              "      <td>1455.553216</td>\n",
              "      <td>1212.318129</td>\n",
              "    </tr>\n",
              "    <tr>\n",
              "      <th>1</th>\n",
              "      <td>3.000000</td>\n",
              "      <td>1200.000000</td>\n",
              "      <td>900.000000</td>\n",
              "    </tr>\n",
              "    <tr>\n",
              "      <th>2</th>\n",
              "      <td>4.449591</td>\n",
              "      <td>1455.553216</td>\n",
              "      <td>1212.318129</td>\n",
              "    </tr>\n",
              "    <tr>\n",
              "      <th>3</th>\n",
              "      <td>4.449591</td>\n",
              "      <td>1455.553216</td>\n",
              "      <td>1212.318129</td>\n",
              "    </tr>\n",
              "    <tr>\n",
              "      <th>4</th>\n",
              "      <td>4.000000</td>\n",
              "      <td>920.000000</td>\n",
              "      <td>1930.000000</td>\n",
              "    </tr>\n",
              "    <tr>\n",
              "      <th>...</th>\n",
              "      <td>...</td>\n",
              "      <td>...</td>\n",
              "      <td>...</td>\n",
              "    </tr>\n",
              "    <tr>\n",
              "      <th>6529</th>\n",
              "      <td>4.449591</td>\n",
              "      <td>1455.553216</td>\n",
              "      <td>1212.318129</td>\n",
              "    </tr>\n",
              "    <tr>\n",
              "      <th>6530</th>\n",
              "      <td>2.000000</td>\n",
              "      <td>2400.000000</td>\n",
              "      <td>0.000000</td>\n",
              "    </tr>\n",
              "    <tr>\n",
              "      <th>6531</th>\n",
              "      <td>7.000000</td>\n",
              "      <td>2500.000000</td>\n",
              "      <td>2100.000000</td>\n",
              "    </tr>\n",
              "    <tr>\n",
              "      <th>6532</th>\n",
              "      <td>7.000000</td>\n",
              "      <td>2500.000000</td>\n",
              "      <td>2000.000000</td>\n",
              "    </tr>\n",
              "    <tr>\n",
              "      <th>6533</th>\n",
              "      <td>8.000000</td>\n",
              "      <td>2500.000000</td>\n",
              "      <td>2000.000000</td>\n",
              "    </tr>\n",
              "  </tbody>\n",
              "</table>\n",
              "<p>6534 rows × 3 columns</p>\n",
              "</div>"
            ],
            "text/plain": [
              "         level          atk          def\n",
              "0     4.449591  1455.553216  1212.318129\n",
              "1     3.000000  1200.000000   900.000000\n",
              "2     4.449591  1455.553216  1212.318129\n",
              "3     4.449591  1455.553216  1212.318129\n",
              "4     4.000000   920.000000  1930.000000\n",
              "...        ...          ...          ...\n",
              "6529  4.449591  1455.553216  1212.318129\n",
              "6530  2.000000  2400.000000     0.000000\n",
              "6531  7.000000  2500.000000  2100.000000\n",
              "6532  7.000000  2500.000000  2000.000000\n",
              "6533  8.000000  2500.000000  2000.000000\n",
              "\n",
              "[6534 rows x 3 columns]"
            ]
          },
          "execution_count": 127,
          "metadata": {},
          "output_type": "execute_result"
        }
      ],
      "source": [
        "df.columns= df.columns.str.lower()\n",
        "df"
      ]
    },
    {
      "cell_type": "code",
      "execution_count": 128,
      "metadata": {
        "colab": {
          "base_uri": "https://localhost:8080/"
        },
        "id": "m3hIMk7WzlcA",
        "outputId": "9860ffae-45ea-4687-ba9a-b85e9ee56062"
      },
      "outputs": [
        {
          "data": {
            "text/plain": [
              "array([[ 0.        ,  0.        ,  0.        ],\n",
              "       [-0.82027071, -0.35140998, -0.48091913],\n",
              "       [ 0.        ,  0.        ,  0.        ],\n",
              "       ...,\n",
              "       [ 1.44318405,  1.43621366,  1.36688574],\n",
              "       [ 1.44318405,  1.43621366,  1.212902  ],\n",
              "       [ 2.00904775,  1.43621366,  1.212902  ]])"
            ]
          },
          "execution_count": 128,
          "metadata": {},
          "output_type": "execute_result"
        }
      ],
      "source": [
        "from sklearn.preprocessing import StandardScaler\n",
        "#Normalisasi Data\n",
        "X = df.iloc[:,0:3]\n",
        "scaler = StandardScaler()\n",
        "X = scaler.fit_transform(X)\n",
        "X\n"
      ]
    },
    {
      "cell_type": "code",
      "execution_count": 129,
      "metadata": {
        "id": "Llp6dAoVzod7"
      },
      "outputs": [],
      "source": [
        "from sklearn.decomposition import PCA\n",
        "pca = PCA()\n",
        "x_reduced = pca.fit_transform(X)\n"
      ]
    },
    {
      "cell_type": "code",
      "execution_count": 130,
      "metadata": {
        "colab": {
          "base_uri": "https://localhost:8080/",
          "height": 283
        },
        "id": "-irIA5MM0Luj",
        "outputId": "602d09e1-e3aa-410a-d903-2ae6ae3caef9"
      },
      "outputs": [
        {
          "data": {
            "image/png": "[encoded data removed]",
            "text/plain": [
              "<Figure size 432x288 with 1 Axes>"
            ]
          },
          "metadata": {
            "needs_background": "light"
          },
          "output_type": "display_data"
        }
      ],
      "source": [
        "def myplot(score,coeff,labels=None):\n",
        "    xs = score[:,0]\n",
        "    ys = score[:,1]\n",
        "    n = coeff.shape[0]\n",
        "    scalex = 1.0/(xs.max()-xs.min())\n",
        "    scaley = 1.0/(ys.max()-ys.min())\n",
        "    plt.scatter(xs * scalex,ys * scaley)\n",
        "    for i in range(n):\n",
        "        plt.arrow(0, 0, coeff[i,0], coeff[i,1],color = 'r',alpha = 0.5)        \n",
        "        if labels is None:\n",
        "            plt.text(coeff[i,0]* 1.15, coeff[i,1] * 1.15, \"Var\"+str(i+1), color = 'g', ha = 'center', va = 'center')\n",
        "        else:\n",
        "            plt.text(coeff[i,0]* 1.15, coeff[i,1] * 1.15, labels[i], color = 'g', ha = 'center', va = 'center')\n",
        "plt.xlim(-1,1)\n",
        "plt.ylim(-1,1)\n",
        "plt.xlabel(\"PC{}\".format(1))\n",
        "plt.ylabel(\"PC{}\".format(2))\n",
        "plt.grid()\n",
        "\n",
        "#Call the function. Use only the 2 PCs.\n",
        "myplot(x_reduced[:,0:6],np.transpose(pca.components_[0:2, :]))\n",
        "plt.show()"
      ]
    },
    {
      "cell_type": "markdown",
      "metadata": {
        "id": "RHeeSegO0RYp"
      },
      "source": [
        "Berdasarkan hasil plottingan diatas, kepentingna untuk setiap fitur dicerminkan oleh besarnya nilai yang berkorespondensi pada eigenvector (higher magnitude - higher importance)"
      ]
    },
    {
      "cell_type": "code",
      "execution_count": 131,
      "metadata": {
        "colab": {
          "base_uri": "https://localhost:8080/"
        },
        "id": "dr0drJG-0Ndw",
        "outputId": "ee3da25c-315a-4987-94e4-82f5d665973c"
      },
      "outputs": [
        {
          "data": {
            "text/plain": [
              "array([0.74057281, 0.17152861, 0.08789858])"
            ]
          },
          "execution_count": 131,
          "metadata": {},
          "output_type": "execute_result"
        }
      ],
      "source": [
        "pca.explained_variance_ratio_"
      ]
    },
    {
      "cell_type": "markdown",
      "metadata": {
        "id": "pEv5zHDk0XdP"
      },
      "source": [
        "PC1 berisi 74% dan PC2 17%. Bersama-sama komponen PC1 dan PC2 saja, maka terdapat total 91% informasi."
      ]
    },
    {
      "cell_type": "code",
      "execution_count": 132,
      "metadata": {
        "colab": {
          "base_uri": "https://localhost:8080/"
        },
        "id": "6_PmxKVb0dHG",
        "outputId": "c542b218-1aac-43b2-cdeb-777779fbe4b3"
      },
      "outputs": [
        {
          "name": "stdout",
          "output_type": "stream",
          "text": [
            "[[0.6076657  0.58447367 0.53771081]\n",
            " [0.23015071 0.51840505 0.82358172]\n",
            " [0.76011383 0.6242169  0.18049993]]\n",
            "(3, 3)\n"
          ]
        }
      ],
      "source": [
        "print(abs(pca.components_))\n",
        "print((abs(pca.components_).shape))"
      ]
    },
    {
      "cell_type": "markdown",
      "metadata": {
        "id": "6niKaRnP0tz0"
      },
      "source": [
        "Disini, pca.components_ mempunyai shape yaitu [n_components, n_features]. Namun, jika kita melihat pada PC1 (First Principal Component) dimana first rownya adalah: [[0.6076657  0.58447367 0.53771081] Maka didapatkan Fitur 1 2 dan 3 adalah fitur yang penting"
      ]
    },
    {
      "cell_type": "code",
      "execution_count": 133,
      "metadata": {
        "colab": {
          "base_uri": "https://localhost:8080/",
          "height": 423
        },
        "id": "ISULSRUy0fqe",
        "outputId": "6bf8ddc2-b22d-429a-ecdd-5854c40dacee"
      },
      "outputs": [
        {
          "data": {
            "text/html": [
              "<div>\n",
              "<style scoped>\n",
              "    .dataframe tbody tr th:only-of-type {\n",
              "        vertical-align: middle;\n",
              "    }\n",
              "\n",
              "    .dataframe tbody tr th {\n",
              "        vertical-align: top;\n",
              "    }\n",
              "\n",
              "    .dataframe thead th {\n",
              "        text-align: right;\n",
              "    }\n",
              "</style>\n",
              "<table border=\"1\" class=\"dataframe\">\n",
              "  <thead>\n",
              "    <tr style=\"text-align: right;\">\n",
              "      <th></th>\n",
              "      <th>level</th>\n",
              "      <th>atk</th>\n",
              "      <th>def</th>\n",
              "    </tr>\n",
              "  </thead>\n",
              "  <tbody>\n",
              "    <tr>\n",
              "      <th>0</th>\n",
              "      <td>4.449591</td>\n",
              "      <td>1455.553216</td>\n",
              "      <td>1212.318129</td>\n",
              "    </tr>\n",
              "    <tr>\n",
              "      <th>1</th>\n",
              "      <td>3.000000</td>\n",
              "      <td>1200.000000</td>\n",
              "      <td>900.000000</td>\n",
              "    </tr>\n",
              "    <tr>\n",
              "      <th>2</th>\n",
              "      <td>4.449591</td>\n",
              "      <td>1455.553216</td>\n",
              "      <td>1212.318129</td>\n",
              "    </tr>\n",
              "    <tr>\n",
              "      <th>3</th>\n",
              "      <td>4.449591</td>\n",
              "      <td>1455.553216</td>\n",
              "      <td>1212.318129</td>\n",
              "    </tr>\n",
              "    <tr>\n",
              "      <th>4</th>\n",
              "      <td>4.000000</td>\n",
              "      <td>920.000000</td>\n",
              "      <td>1930.000000</td>\n",
              "    </tr>\n",
              "    <tr>\n",
              "      <th>...</th>\n",
              "      <td>...</td>\n",
              "      <td>...</td>\n",
              "      <td>...</td>\n",
              "    </tr>\n",
              "    <tr>\n",
              "      <th>6529</th>\n",
              "      <td>4.449591</td>\n",
              "      <td>1455.553216</td>\n",
              "      <td>1212.318129</td>\n",
              "    </tr>\n",
              "    <tr>\n",
              "      <th>6530</th>\n",
              "      <td>2.000000</td>\n",
              "      <td>2400.000000</td>\n",
              "      <td>0.000000</td>\n",
              "    </tr>\n",
              "    <tr>\n",
              "      <th>6531</th>\n",
              "      <td>7.000000</td>\n",
              "      <td>2500.000000</td>\n",
              "      <td>2100.000000</td>\n",
              "    </tr>\n",
              "    <tr>\n",
              "      <th>6532</th>\n",
              "      <td>7.000000</td>\n",
              "      <td>2500.000000</td>\n",
              "      <td>2000.000000</td>\n",
              "    </tr>\n",
              "    <tr>\n",
              "      <th>6533</th>\n",
              "      <td>8.000000</td>\n",
              "      <td>2500.000000</td>\n",
              "      <td>2000.000000</td>\n",
              "    </tr>\n",
              "  </tbody>\n",
              "</table>\n",
              "<p>6534 rows × 3 columns</p>\n",
              "</div>"
            ],
            "text/plain": [
              "         level          atk          def\n",
              "0     4.449591  1455.553216  1212.318129\n",
              "1     3.000000  1200.000000   900.000000\n",
              "2     4.449591  1455.553216  1212.318129\n",
              "3     4.449591  1455.553216  1212.318129\n",
              "4     4.000000   920.000000  1930.000000\n",
              "...        ...          ...          ...\n",
              "6529  4.449591  1455.553216  1212.318129\n",
              "6530  2.000000  2400.000000     0.000000\n",
              "6531  7.000000  2500.000000  2100.000000\n",
              "6532  7.000000  2500.000000  2000.000000\n",
              "6533  8.000000  2500.000000  2000.000000\n",
              "\n",
              "[6534 rows x 3 columns]"
            ]
          },
          "execution_count": 133,
          "metadata": {},
          "output_type": "execute_result"
        }
      ],
      "source": [
        "df"
      ]
    },
    {
      "cell_type": "code",
      "execution_count": 134,
      "metadata": {
        "colab": {
          "base_uri": "https://localhost:8080/",
          "height": 265
        },
        "id": "ah7-PHhx0nlb",
        "outputId": "1f350270-3897-491c-8a5c-e15b2480c7f7"
      },
      "outputs": [
        {
          "data": {
            "text/plain": [
              "<mpl_toolkits.mplot3d.art3d.Path3DCollection at 0x1f3e8526a90>"
            ]
          },
          "execution_count": 134,
          "metadata": {},
          "output_type": "execute_result"
        },
        {
          "data": {
            "image/png": "[encoded data removed]",
            "text/plain": [
              "<Figure size 432x288 with 1 Axes>"
            ]
          },
          "metadata": {
            "needs_background": "light"
          },
          "output_type": "display_data"
        }
      ],
      "source": [
        "ax = plt.axes(projection='3d')\n",
        "\n",
        "xdata = df['atk']\n",
        "ydata = df['def']\n",
        "zdata = df['level']\n",
        "\n",
        "ax.scatter3D(xdata, ydata, zdata, c=xdata, cmap='Greens')\n"
      ]
    },
    {
      "cell_type": "code",
      "execution_count": 135,
      "metadata": {
        "colab": {
          "base_uri": "https://localhost:8080/",
          "height": 295
        },
        "id": "6VkvWNgY1oDa",
        "outputId": "d637fa34-000a-463c-db7e-9f29490642ae"
      },
      "outputs": [
        {
          "data": {
            "image/png": "[encoded data removed]",
            "text/plain": [
              "<Figure size 432x288 with 1 Axes>"
            ]
          },
          "metadata": {
            "needs_background": "light"
          },
          "output_type": "display_data"
        }
      ],
      "source": [
        "wcss = []\n",
        "for i in range(1, 11):\n",
        "    kmeans = KMeans(n_clusters=i, init='k-means++', random_state=42)\n",
        "    kmeans.fit(df)\n",
        "    wcss.append(kmeans.inertia_)\n",
        "plt.plot(range(1, 11), wcss)\n",
        "plt.title('The Elbow Method')\n",
        "plt.xlabel('Number of clusters')\n",
        "plt.ylabel('WCSS')\n",
        "plt.show()\n"
      ]
    },
    {
      "cell_type": "code",
      "execution_count": 136,
      "metadata": {
        "id": "RWSqo6A01vN4"
      },
      "outputs": [],
      "source": [
        "# Fit the K-Means model with 3 clusters\n",
        "kmeans = KMeans(n_clusters=3, init='k-means++', random_state=42)\n",
        "y_kmeans = kmeans.fit_predict(df)\n"
      ]
    },
    {
      "cell_type": "code",
      "execution_count": 137,
      "metadata": {
        "colab": {
          "base_uri": "https://localhost:8080/",
          "height": 295
        },
        "id": "pdiLdJCU12Sh",
        "outputId": "1cddc3ce-fede-4507-b6bc-6124abb1fb2e"
      },
      "outputs": [
        {
          "data": {
            "image/png": "[encoded data removed]",
            "text/plain": [
              "<Figure size 432x288 with 1 Axes>"
            ]
          },
          "metadata": {
            "needs_background": "light"
          },
          "output_type": "display_data"
        }
      ],
      "source": [
        "# Plot the clusters\n",
        "plt.scatter(df[y_kmeans == 0]['atk'], df[y_kmeans == 0]['def'], s=50, c='red', label='Cluster 1')\n",
        "plt.scatter(df[y_kmeans == 1]['atk'], df[y_kmeans == 1]['def'], s=50, c='blue', label='Cluster 2')\n",
        "plt.scatter(df[y_kmeans == 2]['atk'], df[y_kmeans == 2]['def'], s=50, c='green', label='Cluster 3')\n",
        "plt.scatter(kmeans.cluster_centers_[:, 0], kmeans.cluster_centers_[:, 1], s=150, c='black', label='Centroids')\n",
        "plt.title('Yu Gi Oh card data')\n",
        "plt.xlabel('attack')\n",
        "plt.ylabel('defense')\n",
        "plt.legend()\n",
        "plt.show()\n"
      ]
    },
    {
      "cell_type": "code",
      "execution_count": 138,
      "metadata": {
        "id": "5TbRjjzv2COn"
      },
      "outputs": [],
      "source": [
        "# Add new column to the data\n",
        "df['Cluster'] = y_kmeans\n"
      ]
    },
    {
      "cell_type": "code",
      "execution_count": 139,
      "metadata": {
        "colab": {
          "base_uri": "https://localhost:8080/",
          "height": 363
        },
        "id": "TM9HWHVK2E3K",
        "outputId": "29c53dbc-8951-4334-9a80-0f98c5d35e61"
      },
      "outputs": [
        {
          "data": {
            "text/html": [
              "<div>\n",
              "<style scoped>\n",
              "    .dataframe tbody tr th:only-of-type {\n",
              "        vertical-align: middle;\n",
              "    }\n",
              "\n",
              "    .dataframe tbody tr th {\n",
              "        vertical-align: top;\n",
              "    }\n",
              "\n",
              "    .dataframe thead th {\n",
              "        text-align: right;\n",
              "    }\n",
              "</style>\n",
              "<table border=\"1\" class=\"dataframe\">\n",
              "  <thead>\n",
              "    <tr style=\"text-align: right;\">\n",
              "      <th></th>\n",
              "      <th>level</th>\n",
              "      <th>atk</th>\n",
              "      <th>def</th>\n",
              "      <th>Cluster</th>\n",
              "    </tr>\n",
              "  </thead>\n",
              "  <tbody>\n",
              "    <tr>\n",
              "      <th>0</th>\n",
              "      <td>4.449591</td>\n",
              "      <td>1455.553216</td>\n",
              "      <td>1212.318129</td>\n",
              "      <td>1</td>\n",
              "    </tr>\n",
              "    <tr>\n",
              "      <th>1</th>\n",
              "      <td>3.000000</td>\n",
              "      <td>1200.000000</td>\n",
              "      <td>900.000000</td>\n",
              "      <td>1</td>\n",
              "    </tr>\n",
              "    <tr>\n",
              "      <th>2</th>\n",
              "      <td>4.449591</td>\n",
              "      <td>1455.553216</td>\n",
              "      <td>1212.318129</td>\n",
              "      <td>1</td>\n",
              "    </tr>\n",
              "    <tr>\n",
              "      <th>3</th>\n",
              "      <td>4.449591</td>\n",
              "      <td>1455.553216</td>\n",
              "      <td>1212.318129</td>\n",
              "      <td>1</td>\n",
              "    </tr>\n",
              "    <tr>\n",
              "      <th>4</th>\n",
              "      <td>4.000000</td>\n",
              "      <td>920.000000</td>\n",
              "      <td>1930.000000</td>\n",
              "      <td>1</td>\n",
              "    </tr>\n",
              "    <tr>\n",
              "      <th>5</th>\n",
              "      <td>4.449591</td>\n",
              "      <td>1455.553216</td>\n",
              "      <td>1212.318129</td>\n",
              "      <td>1</td>\n",
              "    </tr>\n",
              "    <tr>\n",
              "      <th>6</th>\n",
              "      <td>8.000000</td>\n",
              "      <td>3000.000000</td>\n",
              "      <td>2500.000000</td>\n",
              "      <td>2</td>\n",
              "    </tr>\n",
              "    <tr>\n",
              "      <th>7</th>\n",
              "      <td>4.449591</td>\n",
              "      <td>1455.553216</td>\n",
              "      <td>1212.318129</td>\n",
              "      <td>1</td>\n",
              "    </tr>\n",
              "    <tr>\n",
              "      <th>8</th>\n",
              "      <td>3.000000</td>\n",
              "      <td>1400.000000</td>\n",
              "      <td>300.000000</td>\n",
              "      <td>1</td>\n",
              "    </tr>\n",
              "    <tr>\n",
              "      <th>9</th>\n",
              "      <td>6.000000</td>\n",
              "      <td>2100.000000</td>\n",
              "      <td>200.000000</td>\n",
              "      <td>1</td>\n",
              "    </tr>\n",
              "    <tr>\n",
              "      <th>10</th>\n",
              "      <td>4.449591</td>\n",
              "      <td>1455.553216</td>\n",
              "      <td>1212.318129</td>\n",
              "      <td>1</td>\n",
              "    </tr>\n",
              "    <tr>\n",
              "      <th>11</th>\n",
              "      <td>5.000000</td>\n",
              "      <td>1100.000000</td>\n",
              "      <td>2400.000000</td>\n",
              "      <td>1</td>\n",
              "    </tr>\n",
              "    <tr>\n",
              "      <th>12</th>\n",
              "      <td>2.000000</td>\n",
              "      <td>300.000000</td>\n",
              "      <td>500.000000</td>\n",
              "      <td>0</td>\n",
              "    </tr>\n",
              "    <tr>\n",
              "      <th>13</th>\n",
              "      <td>1.000000</td>\n",
              "      <td>100.000000</td>\n",
              "      <td>100.000000</td>\n",
              "      <td>0</td>\n",
              "    </tr>\n",
              "    <tr>\n",
              "      <th>14</th>\n",
              "      <td>4.449591</td>\n",
              "      <td>1455.553216</td>\n",
              "      <td>1212.318129</td>\n",
              "      <td>1</td>\n",
              "    </tr>\n",
              "    <tr>\n",
              "      <th>15</th>\n",
              "      <td>4.000000</td>\n",
              "      <td>1800.000000</td>\n",
              "      <td>800.000000</td>\n",
              "      <td>1</td>\n",
              "    </tr>\n",
              "    <tr>\n",
              "      <th>16</th>\n",
              "      <td>4.000000</td>\n",
              "      <td>1800.000000</td>\n",
              "      <td>1800.000000</td>\n",
              "      <td>1</td>\n",
              "    </tr>\n",
              "    <tr>\n",
              "      <th>17</th>\n",
              "      <td>4.449591</td>\n",
              "      <td>1455.553216</td>\n",
              "      <td>1212.318129</td>\n",
              "      <td>1</td>\n",
              "    </tr>\n",
              "    <tr>\n",
              "      <th>18</th>\n",
              "      <td>4.449591</td>\n",
              "      <td>1455.553216</td>\n",
              "      <td>1212.318129</td>\n",
              "      <td>1</td>\n",
              "    </tr>\n",
              "    <tr>\n",
              "      <th>19</th>\n",
              "      <td>4.449591</td>\n",
              "      <td>1455.553216</td>\n",
              "      <td>1212.318129</td>\n",
              "      <td>1</td>\n",
              "    </tr>\n",
              "  </tbody>\n",
              "</table>\n",
              "</div>"
            ],
            "text/plain": [
              "       level          atk          def  Cluster\n",
              "0   4.449591  1455.553216  1212.318129        1\n",
              "1   3.000000  1200.000000   900.000000        1\n",
              "2   4.449591  1455.553216  1212.318129        1\n",
              "3   4.449591  1455.553216  1212.318129        1\n",
              "4   4.000000   920.000000  1930.000000        1\n",
              "5   4.449591  1455.553216  1212.318129        1\n",
              "6   8.000000  3000.000000  2500.000000        2\n",
              "7   4.449591  1455.553216  1212.318129        1\n",
              "8   3.000000  1400.000000   300.000000        1\n",
              "9   6.000000  2100.000000   200.000000        1\n",
              "10  4.449591  1455.553216  1212.318129        1\n",
              "11  5.000000  1100.000000  2400.000000        1\n",
              "12  2.000000   300.000000   500.000000        0\n",
              "13  1.000000   100.000000   100.000000        0\n",
              "14  4.449591  1455.553216  1212.318129        1\n",
              "15  4.000000  1800.000000   800.000000        1\n",
              "16  4.000000  1800.000000  1800.000000        1\n",
              "17  4.449591  1455.553216  1212.318129        1\n",
              "18  4.449591  1455.553216  1212.318129        1\n",
              "19  4.449591  1455.553216  1212.318129        1"
            ]
          },
          "execution_count": 139,
          "metadata": {},
          "output_type": "execute_result"
        }
      ],
      "source": [
        "# Show the first 10 rows of the data\n",
        "df.head(20)\n"
      ]
    },
    {
      "cell_type": "code",
      "execution_count": 140,
      "metadata": {
        "colab": {
          "base_uri": "https://localhost:8080/",
          "height": 363
        },
        "id": "deJ68IoI2Hof",
        "outputId": "aab43f71-f282-4a04-8ee9-ce3d587d13f6"
      },
      "outputs": [
        {
          "data": {
            "text/html": [
              "<div>\n",
              "<style scoped>\n",
              "    .dataframe tbody tr th:only-of-type {\n",
              "        vertical-align: middle;\n",
              "    }\n",
              "\n",
              "    .dataframe tbody tr th {\n",
              "        vertical-align: top;\n",
              "    }\n",
              "\n",
              "    .dataframe thead th {\n",
              "        text-align: right;\n",
              "    }\n",
              "</style>\n",
              "<table border=\"1\" class=\"dataframe\">\n",
              "  <thead>\n",
              "    <tr style=\"text-align: right;\">\n",
              "      <th></th>\n",
              "      <th>level</th>\n",
              "      <th>atk</th>\n",
              "      <th>def</th>\n",
              "      <th>Cluster</th>\n",
              "    </tr>\n",
              "  </thead>\n",
              "  <tbody>\n",
              "    <tr>\n",
              "      <th>6514</th>\n",
              "      <td>4.449591</td>\n",
              "      <td>1455.553216</td>\n",
              "      <td>1212.318129</td>\n",
              "      <td>1</td>\n",
              "    </tr>\n",
              "    <tr>\n",
              "      <th>6515</th>\n",
              "      <td>4.449591</td>\n",
              "      <td>1455.553216</td>\n",
              "      <td>1212.318129</td>\n",
              "      <td>1</td>\n",
              "    </tr>\n",
              "    <tr>\n",
              "      <th>6516</th>\n",
              "      <td>4.449591</td>\n",
              "      <td>1455.553216</td>\n",
              "      <td>1212.318129</td>\n",
              "      <td>1</td>\n",
              "    </tr>\n",
              "    <tr>\n",
              "      <th>6517</th>\n",
              "      <td>4.000000</td>\n",
              "      <td>2500.000000</td>\n",
              "      <td>2000.000000</td>\n",
              "      <td>2</td>\n",
              "    </tr>\n",
              "    <tr>\n",
              "      <th>6518</th>\n",
              "      <td>3.000000</td>\n",
              "      <td>1600.000000</td>\n",
              "      <td>800.000000</td>\n",
              "      <td>1</td>\n",
              "    </tr>\n",
              "    <tr>\n",
              "      <th>6519</th>\n",
              "      <td>4.449591</td>\n",
              "      <td>1455.553216</td>\n",
              "      <td>1212.318129</td>\n",
              "      <td>1</td>\n",
              "    </tr>\n",
              "    <tr>\n",
              "      <th>6520</th>\n",
              "      <td>4.449591</td>\n",
              "      <td>1455.553216</td>\n",
              "      <td>1212.318129</td>\n",
              "      <td>1</td>\n",
              "    </tr>\n",
              "    <tr>\n",
              "      <th>6521</th>\n",
              "      <td>4.000000</td>\n",
              "      <td>1200.000000</td>\n",
              "      <td>1600.000000</td>\n",
              "      <td>1</td>\n",
              "    </tr>\n",
              "    <tr>\n",
              "      <th>6522</th>\n",
              "      <td>4.000000</td>\n",
              "      <td>1000.000000</td>\n",
              "      <td>2000.000000</td>\n",
              "      <td>1</td>\n",
              "    </tr>\n",
              "    <tr>\n",
              "      <th>6523</th>\n",
              "      <td>7.000000</td>\n",
              "      <td>2500.000000</td>\n",
              "      <td>2100.000000</td>\n",
              "      <td>2</td>\n",
              "    </tr>\n",
              "    <tr>\n",
              "      <th>6524</th>\n",
              "      <td>4.449591</td>\n",
              "      <td>1455.553216</td>\n",
              "      <td>1212.318129</td>\n",
              "      <td>1</td>\n",
              "    </tr>\n",
              "    <tr>\n",
              "      <th>6525</th>\n",
              "      <td>4.000000</td>\n",
              "      <td>1400.000000</td>\n",
              "      <td>1000.000000</td>\n",
              "      <td>1</td>\n",
              "    </tr>\n",
              "    <tr>\n",
              "      <th>6526</th>\n",
              "      <td>2.000000</td>\n",
              "      <td>500.000000</td>\n",
              "      <td>300.000000</td>\n",
              "      <td>0</td>\n",
              "    </tr>\n",
              "    <tr>\n",
              "      <th>6527</th>\n",
              "      <td>6.000000</td>\n",
              "      <td>2000.000000</td>\n",
              "      <td>1700.000000</td>\n",
              "      <td>1</td>\n",
              "    </tr>\n",
              "    <tr>\n",
              "      <th>6528</th>\n",
              "      <td>5.000000</td>\n",
              "      <td>1800.000000</td>\n",
              "      <td>1600.000000</td>\n",
              "      <td>1</td>\n",
              "    </tr>\n",
              "    <tr>\n",
              "      <th>6529</th>\n",
              "      <td>4.449591</td>\n",
              "      <td>1455.553216</td>\n",
              "      <td>1212.318129</td>\n",
              "      <td>1</td>\n",
              "    </tr>\n",
              "    <tr>\n",
              "      <th>6530</th>\n",
              "      <td>2.000000</td>\n",
              "      <td>2400.000000</td>\n",
              "      <td>0.000000</td>\n",
              "      <td>1</td>\n",
              "    </tr>\n",
              "    <tr>\n",
              "      <th>6531</th>\n",
              "      <td>7.000000</td>\n",
              "      <td>2500.000000</td>\n",
              "      <td>2100.000000</td>\n",
              "      <td>2</td>\n",
              "    </tr>\n",
              "    <tr>\n",
              "      <th>6532</th>\n",
              "      <td>7.000000</td>\n",
              "      <td>2500.000000</td>\n",
              "      <td>2000.000000</td>\n",
              "      <td>2</td>\n",
              "    </tr>\n",
              "    <tr>\n",
              "      <th>6533</th>\n",
              "      <td>8.000000</td>\n",
              "      <td>2500.000000</td>\n",
              "      <td>2000.000000</td>\n",
              "      <td>2</td>\n",
              "    </tr>\n",
              "  </tbody>\n",
              "</table>\n",
              "</div>"
            ],
            "text/plain": [
              "         level          atk          def  Cluster\n",
              "6514  4.449591  1455.553216  1212.318129        1\n",
              "6515  4.449591  1455.553216  1212.318129        1\n",
              "6516  4.449591  1455.553216  1212.318129        1\n",
              "6517  4.000000  2500.000000  2000.000000        2\n",
              "6518  3.000000  1600.000000   800.000000        1\n",
              "6519  4.449591  1455.553216  1212.318129        1\n",
              "6520  4.449591  1455.553216  1212.318129        1\n",
              "6521  4.000000  1200.000000  1600.000000        1\n",
              "6522  4.000000  1000.000000  2000.000000        1\n",
              "6523  7.000000  2500.000000  2100.000000        2\n",
              "6524  4.449591  1455.553216  1212.318129        1\n",
              "6525  4.000000  1400.000000  1000.000000        1\n",
              "6526  2.000000   500.000000   300.000000        0\n",
              "6527  6.000000  2000.000000  1700.000000        1\n",
              "6528  5.000000  1800.000000  1600.000000        1\n",
              "6529  4.449591  1455.553216  1212.318129        1\n",
              "6530  2.000000  2400.000000     0.000000        1\n",
              "6531  7.000000  2500.000000  2100.000000        2\n",
              "6532  7.000000  2500.000000  2000.000000        2\n",
              "6533  8.000000  2500.000000  2000.000000        2"
            ]
          },
          "execution_count": 140,
          "metadata": {},
          "output_type": "execute_result"
        }
      ],
      "source": [
        "# Show the last 10 rows of the data\n",
        "df.tail(20)"
      ]
    },
    {
      "cell_type": "code",
      "execution_count": 141,
      "metadata": {
        "colab": {
          "base_uri": "https://localhost:8080/"
        },
        "id": "fKRwTweY2XN3",
        "outputId": "53333421-6c47-4dbe-8981-fb6424c1c964"
      },
      "outputs": [
        {
          "data": {
            "text/plain": [
              "dtype('int32')"
            ]
          },
          "execution_count": 141,
          "metadata": {},
          "output_type": "execute_result"
        }
      ],
      "source": [
        "# Data type of the Cluster column\n",
        "df['Cluster'].dtype\n"
      ]
    },
    {
      "cell_type": "code",
      "execution_count": 142,
      "metadata": {
        "colab": {
          "base_uri": "https://localhost:8080/"
        },
        "id": "6bUx3FrQ2ZuA",
        "outputId": "99ac906f-7896-44e2-dcc8-435eeb26e3f7"
      },
      "outputs": [
        {
          "data": {
            "text/plain": [
              "array([1, 2, 0])"
            ]
          },
          "execution_count": 142,
          "metadata": {},
          "output_type": "execute_result"
        }
      ],
      "source": [
        "df['Cluster'].unique()"
      ]
    },
    {
      "cell_type": "code",
      "execution_count": 143,
      "metadata": {},
      "outputs": [],
      "source": [
        "# Serializing the model\n",
        "import pickle\n",
        "pickle.dump(kmeans, open('yugiohcard.pkl', 'wb'))"
      ]
    }
  ],
  "metadata": {
    "colab": {
      "provenance": []
    },
    "kernelspec": {
      "display_name": "Python 3",
      "language": "python",
      "name": "python3"
    },
    "language_info": {
      "codemirror_mode": {
        "name": "ipython",
        "version": 3
      },
      "file_extension": ".py",
      "mimetype": "text/x-python",
      "name": "python",
      "nbconvert_exporter": "python",
      "pygments_lexer": "ipython3",
      "version": "3.9.0 (tags/v3.9.0:9cf6752, Oct  5 2020, 15:34:40) [MSC v.1927 64 bit (AMD64)]"
    },
    "vscode": {
      "interpreter": {
        "hash": "c8ba1d42ea821a39063a6593bb44139e490a53af537b0af2c6fc3b231f3bd8b6"
      }
    }
  },
  "nbformat": 4,
  "nbformat_minor": 0
}
